{
 "cells": [
  {
   "cell_type": "markdown",
   "id": "8ea9774b",
   "metadata": {},
   "source": [
    "# Movie Recommendation"
   ]
  },
  {
   "cell_type": "code",
   "execution_count": 1,
   "id": "97e255b7",
   "metadata": {},
   "outputs": [],
   "source": [
    "import pandas as pd\n",
    "import numpy as np\n",
    "import sqlite3\n",
    "import matplotlib.pyplot as plt\n",
    "import seaborn as sns\n",
    "%matplotlib inline \n",
    "import matplotlib.style as style\n",
    "style.use('seaborn-darkgrid')"
   ]
  },
  {
   "cell_type": "markdown",
   "id": "30061f39",
   "metadata": {},
   "source": [
    "## DB connect"
   ]
  },
  {
   "cell_type": "code",
   "execution_count": 11,
   "id": "844af9ea",
   "metadata": {},
   "outputs": [],
   "source": [
    "con = sqlite3.connect(\"./movies.db\")"
   ]
  },
  {
   "cell_type": "code",
   "execution_count": 12,
   "id": "a2c529ad",
   "metadata": {},
   "outputs": [
    {
     "data": {
      "text/html": [
       "<div>\n",
       "<style scoped>\n",
       "    .dataframe tbody tr th:only-of-type {\n",
       "        vertical-align: middle;\n",
       "    }\n",
       "\n",
       "    .dataframe tbody tr th {\n",
       "        vertical-align: top;\n",
       "    }\n",
       "\n",
       "    .dataframe thead th {\n",
       "        text-align: right;\n",
       "    }\n",
       "</style>\n",
       "<table border=\"1\" class=\"dataframe\">\n",
       "  <thead>\n",
       "    <tr style=\"text-align: right;\">\n",
       "      <th></th>\n",
       "      <th>userid</th>\n",
       "      <th>movieid</th>\n",
       "      <th>rating</th>\n",
       "      <th>timestamp</th>\n",
       "      <th>title</th>\n",
       "      <th>genres</th>\n",
       "    </tr>\n",
       "  </thead>\n",
       "  <tbody>\n",
       "    <tr>\n",
       "      <th>0</th>\n",
       "      <td>1</td>\n",
       "      <td>1</td>\n",
       "      <td>4.0</td>\n",
       "      <td>964982703</td>\n",
       "      <td>Toy Story (1995)</td>\n",
       "      <td>Adventure|Animation|Children|Comedy|Fantasy</td>\n",
       "    </tr>\n",
       "    <tr>\n",
       "      <th>1</th>\n",
       "      <td>5</td>\n",
       "      <td>1</td>\n",
       "      <td>4.0</td>\n",
       "      <td>847434962</td>\n",
       "      <td>Toy Story (1995)</td>\n",
       "      <td>Adventure|Animation|Children|Comedy|Fantasy</td>\n",
       "    </tr>\n",
       "    <tr>\n",
       "      <th>2</th>\n",
       "      <td>7</td>\n",
       "      <td>1</td>\n",
       "      <td>4.5</td>\n",
       "      <td>1106635946</td>\n",
       "      <td>Toy Story (1995)</td>\n",
       "      <td>Adventure|Animation|Children|Comedy|Fantasy</td>\n",
       "    </tr>\n",
       "    <tr>\n",
       "      <th>3</th>\n",
       "      <td>15</td>\n",
       "      <td>1</td>\n",
       "      <td>2.5</td>\n",
       "      <td>1510577970</td>\n",
       "      <td>Toy Story (1995)</td>\n",
       "      <td>Adventure|Animation|Children|Comedy|Fantasy</td>\n",
       "    </tr>\n",
       "    <tr>\n",
       "      <th>4</th>\n",
       "      <td>17</td>\n",
       "      <td>1</td>\n",
       "      <td>4.5</td>\n",
       "      <td>1305696483</td>\n",
       "      <td>Toy Story (1995)</td>\n",
       "      <td>Adventure|Animation|Children|Comedy|Fantasy</td>\n",
       "    </tr>\n",
       "  </tbody>\n",
       "</table>\n",
       "</div>"
      ],
      "text/plain": [
       "   userid  movieid  rating   timestamp             title  \\\n",
       "0       1        1     4.0   964982703  Toy Story (1995)   \n",
       "1       5        1     4.0   847434962  Toy Story (1995)   \n",
       "2       7        1     4.5  1106635946  Toy Story (1995)   \n",
       "3      15        1     2.5  1510577970  Toy Story (1995)   \n",
       "4      17        1     4.5  1305696483  Toy Story (1995)   \n",
       "\n",
       "                                        genres  \n",
       "0  Adventure|Animation|Children|Comedy|Fantasy  \n",
       "1  Adventure|Animation|Children|Comedy|Fantasy  \n",
       "2  Adventure|Animation|Children|Comedy|Fantasy  \n",
       "3  Adventure|Animation|Children|Comedy|Fantasy  \n",
       "4  Adventure|Animation|Children|Comedy|Fantasy  "
      ]
     },
     "execution_count": 12,
     "metadata": {},
     "output_type": "execute_result"
    }
   ],
   "source": [
    "df = pd.read_sql_query(\"SELECT * FROM df\", con).drop('index',axis=1)\n",
    "df.head()"
   ]
  },
  {
   "cell_type": "markdown",
   "id": "3868a2e0",
   "metadata": {},
   "source": [
    "## EDA"
   ]
  },
  {
   "cell_type": "code",
   "execution_count": 27,
   "id": "8be72dc2",
   "metadata": {},
   "outputs": [
    {
     "name": "stdout",
     "output_type": "stream",
     "text": [
      "# of Users:  610\n",
      "# of Movies:  9719\n",
      "rating points:  [4.  4.5 2.5 3.5 3.  5.  0.5 2.  1.5 1. ]\n"
     ]
    }
   ],
   "source": [
    "print('# of Users: ', df.userid.nunique())\n",
    "print('# of Movies: ', df.title.nunique())\n",
    "print('rating points: ', df.rating.unique())"
   ]
  },
  {
   "cell_type": "code",
   "execution_count": 13,
   "id": "c8a4fb81",
   "metadata": {},
   "outputs": [
    {
     "name": "stderr",
     "output_type": "stream",
     "text": [
      "<>:2: DeprecationWarning: invalid escape sequence \\(\n",
      "<>:2: DeprecationWarning: invalid escape sequence \\(\n",
      "/var/folders/tb/0nxt_p456gs54x8pwqj510hw0000gp/T/ipykernel_12877/3947413214.py:2: DeprecationWarning: invalid escape sequence \\(\n",
      "  df['movie_year'] = df.title.str.extract('.*\\((.*)\\).*')\n"
     ]
    }
   ],
   "source": [
    "# split movie release years \n",
    "df['movie_year'] = df.title.str.extract('.*\\((.*)\\).*')\n",
    "df['title'] = df.title.str.split('(').str[0].str[:-1]"
   ]
  },
  {
   "cell_type": "code",
   "execution_count": 14,
   "id": "622c2602",
   "metadata": {},
   "outputs": [],
   "source": [
    "# setting type\n",
    "df = df.astype({'userid':'int','movieid':'int','rating':'float','timestamp':'int'})"
   ]
  },
  {
   "cell_type": "code",
   "execution_count": 15,
   "id": "b91e6b2c",
   "metadata": {
    "scrolled": true
   },
   "outputs": [
    {
     "data": {
      "text/html": [
       "<div>\n",
       "<style scoped>\n",
       "    .dataframe tbody tr th:only-of-type {\n",
       "        vertical-align: middle;\n",
       "    }\n",
       "\n",
       "    .dataframe tbody tr th {\n",
       "        vertical-align: top;\n",
       "    }\n",
       "\n",
       "    .dataframe thead th {\n",
       "        text-align: right;\n",
       "    }\n",
       "</style>\n",
       "<table border=\"1\" class=\"dataframe\">\n",
       "  <thead>\n",
       "    <tr style=\"text-align: right;\">\n",
       "      <th></th>\n",
       "      <th>userid</th>\n",
       "      <th>movieid</th>\n",
       "      <th>rating</th>\n",
       "      <th>timestamp</th>\n",
       "      <th>title</th>\n",
       "      <th>genres</th>\n",
       "      <th>movie_year</th>\n",
       "    </tr>\n",
       "  </thead>\n",
       "  <tbody>\n",
       "    <tr>\n",
       "      <th>0</th>\n",
       "      <td>1</td>\n",
       "      <td>1</td>\n",
       "      <td>4.0</td>\n",
       "      <td>2000-07-31 03:45:03</td>\n",
       "      <td>Toy Story</td>\n",
       "      <td>Adventure|Animation|Children|Comedy|Fantasy</td>\n",
       "      <td>1995</td>\n",
       "    </tr>\n",
       "    <tr>\n",
       "      <th>1</th>\n",
       "      <td>5</td>\n",
       "      <td>1</td>\n",
       "      <td>4.0</td>\n",
       "      <td>1996-11-08 15:36:02</td>\n",
       "      <td>Toy Story</td>\n",
       "      <td>Adventure|Animation|Children|Comedy|Fantasy</td>\n",
       "      <td>1995</td>\n",
       "    </tr>\n",
       "    <tr>\n",
       "      <th>2</th>\n",
       "      <td>7</td>\n",
       "      <td>1</td>\n",
       "      <td>4.5</td>\n",
       "      <td>2005-01-25 15:52:26</td>\n",
       "      <td>Toy Story</td>\n",
       "      <td>Adventure|Animation|Children|Comedy|Fantasy</td>\n",
       "      <td>1995</td>\n",
       "    </tr>\n",
       "    <tr>\n",
       "      <th>3</th>\n",
       "      <td>15</td>\n",
       "      <td>1</td>\n",
       "      <td>2.5</td>\n",
       "      <td>2017-11-13 21:59:30</td>\n",
       "      <td>Toy Story</td>\n",
       "      <td>Adventure|Animation|Children|Comedy|Fantasy</td>\n",
       "      <td>1995</td>\n",
       "    </tr>\n",
       "    <tr>\n",
       "      <th>4</th>\n",
       "      <td>17</td>\n",
       "      <td>1</td>\n",
       "      <td>4.5</td>\n",
       "      <td>2011-05-18 14:28:03</td>\n",
       "      <td>Toy Story</td>\n",
       "      <td>Adventure|Animation|Children|Comedy|Fantasy</td>\n",
       "      <td>1995</td>\n",
       "    </tr>\n",
       "  </tbody>\n",
       "</table>\n",
       "</div>"
      ],
      "text/plain": [
       "   userid  movieid  rating           timestamp      title  \\\n",
       "0       1        1     4.0 2000-07-31 03:45:03  Toy Story   \n",
       "1       5        1     4.0 1996-11-08 15:36:02  Toy Story   \n",
       "2       7        1     4.5 2005-01-25 15:52:26  Toy Story   \n",
       "3      15        1     2.5 2017-11-13 21:59:30  Toy Story   \n",
       "4      17        1     4.5 2011-05-18 14:28:03  Toy Story   \n",
       "\n",
       "                                        genres movie_year  \n",
       "0  Adventure|Animation|Children|Comedy|Fantasy       1995  \n",
       "1  Adventure|Animation|Children|Comedy|Fantasy       1995  \n",
       "2  Adventure|Animation|Children|Comedy|Fantasy       1995  \n",
       "3  Adventure|Animation|Children|Comedy|Fantasy       1995  \n",
       "4  Adventure|Animation|Children|Comedy|Fantasy       1995  "
      ]
     },
     "execution_count": 15,
     "metadata": {},
     "output_type": "execute_result"
    }
   ],
   "source": [
    "# convert timestamp into readable format\n",
    "import datetime\n",
    "from datetime import datetime\n",
    "def timestamp_Readable(df):\n",
    "    return pd.to_datetime(datetime.fromtimestamp(df).strftime('%Y-%m-%d %H:%M:%S'))\n",
    "\n",
    "df.timestamp = df.timestamp.apply(timestamp_Readable)\n",
    "df.head()"
   ]
  },
  {
   "cell_type": "code",
   "execution_count": 16,
   "id": "866cd71e",
   "metadata": {},
   "outputs": [
    {
     "name": "stdout",
     "output_type": "stream",
     "text": [
      "Rating points:  [4. 5. 3. 1. 2.]\n"
     ]
    }
   ],
   "source": [
    "# decrease # of rating\n",
    "df.rating = np.ceil(df.rating)\n",
    "print('Rating points: ', df.rating.unique())"
   ]
  },
  {
   "cell_type": "code",
   "execution_count": 17,
   "id": "2a96ba8b",
   "metadata": {},
   "outputs": [],
   "source": [
    "# removing movies (rated <= 10)\n",
    "movieid_val = df.movieid.value_counts()\n",
    "movie_rating_greater_10 = movieid_val[movieid_val>=10].index\n",
    "df = df[df.movieid.isin(movie_rating_greater_10)]"
   ]
  },
  {
   "cell_type": "markdown",
   "id": "134bfc11",
   "metadata": {},
   "source": [
    "### Frequency of the Ratings"
   ]
  },
  {
   "cell_type": "code",
   "execution_count": 13,
   "id": "02018811",
   "metadata": {},
   "outputs": [
    {
     "data": {
      "image/png": "[encoded data removed]",
      "text/plain": [
       "<Figure size 720x360 with 1 Axes>"
      ]
     },
     "metadata": {},
     "output_type": "display_data"
    }
   ],
   "source": [
    "fig = plt.figure(figsize=(10,5))\n",
    "rc = df.rating.value_counts()\n",
    "plt.bar(rc.index, rc)\n",
    "for i,v in zip(rc.index,rc):\n",
    "    plt.text(i,v,v,color='white', fontweight='bold', va='top', ha='center')    "
   ]
  },
  {
   "cell_type": "markdown",
   "id": "8c5a1613",
   "metadata": {},
   "source": [
    "### Top Frequent Movie Genres"
   ]
  },
  {
   "cell_type": "code",
   "execution_count": 14,
   "id": "df4437c2",
   "metadata": {},
   "outputs": [
    {
     "data": {
      "image/png": "[encoded data removed]",
      "text/plain": [
       "<Figure size 720x360 with 1 Axes>"
      ]
     },
     "metadata": {},
     "output_type": "display_data"
    }
   ],
   "source": [
    "fig = plt.figure(figsize=(10,5))\n",
    "gc = df.genres.str.split('|', expand=True).stack().value_counts()\n",
    "plt.bar(gc.index, gc)\n",
    "for i,v in zip(gc.index,gc):\n",
    "    plt.text(i,v,v,color='black', fontweight='bold', ha='center') \n",
    "plt.xticks(rotation=270)\n",
    "plt.show()"
   ]
  },
  {
   "cell_type": "markdown",
   "id": "02ee0175",
   "metadata": {},
   "source": [
    "### Number of Movies for each Genre"
   ]
  },
  {
   "cell_type": "code",
   "execution_count": 15,
   "id": "0d4d889e",
   "metadata": {},
   "outputs": [
    {
     "data": {
      "image/png": "[encoded data removed]",
      "text/plain": [
       "<Figure size 720x360 with 1 Axes>"
      ]
     },
     "metadata": {},
     "output_type": "display_data"
    }
   ],
   "source": [
    "unq_movie = df.drop_duplicates('title')\n",
    "gc = unq_movie['genres'].str.split('|', expand=True).stack().value_counts()\n",
    "fig = plt.figure(figsize=(10,5))\n",
    "plt.bar(gc.index, gc)\n",
    "for i,v in zip(gc.index,gc):\n",
    "    plt.text(i,v,v,color='black', fontweight='bold', ha='center') \n",
    "plt.xticks(rotation=270)\n",
    "plt.show()"
   ]
  },
  {
   "cell_type": "markdown",
   "id": "511de157",
   "metadata": {},
   "source": [
    "### Rating Averages"
   ]
  },
  {
   "cell_type": "code",
   "execution_count": 16,
   "id": "3071fcea",
   "metadata": {
    "scrolled": true
   },
   "outputs": [],
   "source": [
    "genre_vs_rating = df.groupby(['genres', 'rating']).size().unstack().fillna(0)\n",
    "movie_vs_rating = df.groupby(['title', 'rating']).size().unstack().fillna(0)"
   ]
  },
  {
   "cell_type": "code",
   "execution_count": 17,
   "id": "be156501",
   "metadata": {},
   "outputs": [],
   "source": [
    "# Rating Average for dataframe rows\n",
    "def Rating_Average(df):\n",
    "    x = []\n",
    "    for i in range(0, df.shape[0]):\n",
    "        x.append((np.average(df.iloc[i].index, weights=df.iloc[i].values, axis=0)).round(2))\n",
    "    return x\n",
    "\n",
    "# genre_vs_rating rows\n",
    "genre_vs_rating['rating_average'] = Rating_Average(genre_vs_rating)\n",
    "\n",
    "# movie_vs_rating rows\n",
    "movie_vs_rating['rating_average'] = Rating_Average(movie_vs_rating)"
   ]
  },
  {
   "cell_type": "code",
   "execution_count": 18,
   "id": "bcacc9e5",
   "metadata": {},
   "outputs": [
    {
     "data": {
      "text/html": [
       "<div>\n",
       "<style scoped>\n",
       "    .dataframe tbody tr th:only-of-type {\n",
       "        vertical-align: middle;\n",
       "    }\n",
       "\n",
       "    .dataframe tbody tr th {\n",
       "        vertical-align: top;\n",
       "    }\n",
       "\n",
       "    .dataframe thead th {\n",
       "        text-align: right;\n",
       "    }\n",
       "</style>\n",
       "<table border=\"1\" class=\"dataframe\">\n",
       "  <thead>\n",
       "    <tr style=\"text-align: right;\">\n",
       "      <th>rating</th>\n",
       "      <th>1.0</th>\n",
       "      <th>2.0</th>\n",
       "      <th>3.0</th>\n",
       "      <th>4.0</th>\n",
       "      <th>5.0</th>\n",
       "      <th>rating_average</th>\n",
       "    </tr>\n",
       "    <tr>\n",
       "      <th>title</th>\n",
       "      <th></th>\n",
       "      <th></th>\n",
       "      <th></th>\n",
       "      <th></th>\n",
       "      <th></th>\n",
       "      <th></th>\n",
       "    </tr>\n",
       "  </thead>\n",
       "  <tbody>\n",
       "    <tr>\n",
       "      <th></th>\n",
       "      <td>2.0</td>\n",
       "      <td>2.0</td>\n",
       "      <td>6.0</td>\n",
       "      <td>21.0</td>\n",
       "      <td>11.0</td>\n",
       "      <td>3.88</td>\n",
       "    </tr>\n",
       "    <tr>\n",
       "      <th>'burbs, The</th>\n",
       "      <td>2.0</td>\n",
       "      <td>3.0</td>\n",
       "      <td>3.0</td>\n",
       "      <td>6.0</td>\n",
       "      <td>3.0</td>\n",
       "      <td>3.29</td>\n",
       "    </tr>\n",
       "    <tr>\n",
       "      <th>10 Cloverfield Lane</th>\n",
       "      <td>0.0</td>\n",
       "      <td>0.0</td>\n",
       "      <td>5.0</td>\n",
       "      <td>7.0</td>\n",
       "      <td>2.0</td>\n",
       "      <td>3.79</td>\n",
       "    </tr>\n",
       "    <tr>\n",
       "      <th>10 Things I Hate About You</th>\n",
       "      <td>3.0</td>\n",
       "      <td>2.0</td>\n",
       "      <td>16.0</td>\n",
       "      <td>21.0</td>\n",
       "      <td>12.0</td>\n",
       "      <td>3.69</td>\n",
       "    </tr>\n",
       "    <tr>\n",
       "      <th>10,000 BC</th>\n",
       "      <td>1.0</td>\n",
       "      <td>4.0</td>\n",
       "      <td>8.0</td>\n",
       "      <td>4.0</td>\n",
       "      <td>0.0</td>\n",
       "      <td>2.88</td>\n",
       "    </tr>\n",
       "  </tbody>\n",
       "</table>\n",
       "</div>"
      ],
      "text/plain": [
       "rating                      1.0  2.0   3.0   4.0   5.0  rating_average\n",
       "title                                                                 \n",
       "                            2.0  2.0   6.0  21.0  11.0            3.88\n",
       "'burbs, The                 2.0  3.0   3.0   6.0   3.0            3.29\n",
       "10 Cloverfield Lane         0.0  0.0   5.0   7.0   2.0            3.79\n",
       "10 Things I Hate About You  3.0  2.0  16.0  21.0  12.0            3.69\n",
       "10,000 BC                   1.0  4.0   8.0   4.0   0.0            2.88"
      ]
     },
     "execution_count": 18,
     "metadata": {},
     "output_type": "execute_result"
    }
   ],
   "source": [
    "movie_vs_rating.head()"
   ]
  },
  {
   "cell_type": "markdown",
   "id": "b1e67503",
   "metadata": {},
   "source": [
    "### Top 15 Movie with the highest Rating Averages"
   ]
  },
  {
   "cell_type": "code",
   "execution_count": 19,
   "id": "a8bf8153",
   "metadata": {
    "scrolled": true
   },
   "outputs": [
    {
     "data": {
      "image/png": "[encoded data removed]",
      "text/plain": [
       "<Figure size 720x360 with 1 Axes>"
      ]
     },
     "metadata": {},
     "output_type": "display_data"
    }
   ],
   "source": [
    "fig = plt.figure(figsize=(10,5))\n",
    "mv_15 = movie_vs_rating.sort_values('rating_average', ascending=False).iloc[:15,-1]\n",
    "plt.bar(mv_15.index, mv_15)\n",
    "for i,v in zip(mv_15.index, mv_15):\n",
    "    plt.text(i,v,v,color='black', fontweight='bold', ha='center') \n",
    "plt.xticks(rotation=270)\n",
    "plt.show()"
   ]
  },
  {
   "cell_type": "markdown",
   "id": "39efff63",
   "metadata": {},
   "source": [
    "### Top 15 Movie with the smalliest Rating Averages"
   ]
  },
  {
   "cell_type": "code",
   "execution_count": 20,
   "id": "6e9dd2e6",
   "metadata": {
    "scrolled": true
   },
   "outputs": [
    {
     "data": {
      "image/png": "[encoded data removed]",
      "text/plain": [
       "<Figure size 720x360 with 1 Axes>"
      ]
     },
     "metadata": {},
     "output_type": "display_data"
    }
   ],
   "source": [
    "fig = plt.figure(figsize=(10,5))\n",
    "mv_15 = movie_vs_rating.sort_values('rating_average').iloc[:15,-1]\n",
    "plt.bar(mv_15.index, mv_15)\n",
    "for i,v in zip(mv_15.index, mv_15):\n",
    "    plt.text(i,v,v,color='black', fontweight='bold', ha='center') \n",
    "plt.xticks(rotation=270)\n",
    "plt.show()"
   ]
  },
  {
   "cell_type": "markdown",
   "id": "8a25c9bc",
   "metadata": {},
   "source": [
    "### Top 15 Genres with the highest Rating Averages"
   ]
  },
  {
   "cell_type": "code",
   "execution_count": 21,
   "id": "a84c7e24",
   "metadata": {},
   "outputs": [
    {
     "data": {
      "image/png": "[encoded data removed]",
      "text/plain": [
       "<Figure size 720x360 with 1 Axes>"
      ]
     },
     "metadata": {},
     "output_type": "display_data"
    }
   ],
   "source": [
    "fig = plt.figure(figsize=(10,5))\n",
    "gv_15 = genre_vs_rating.sort_values('rating_average', ascending=False).iloc[:15,-1]\n",
    "plt.bar(gv_15.index, gv_15)\n",
    "for i,v in zip(gv_15.index, gv_15):\n",
    "    plt.text(i,v,v,color='black', fontweight='bold', ha='center') \n",
    "plt.xticks(rotation=270)\n",
    "plt.show()"
   ]
  },
  {
   "cell_type": "markdown",
   "id": "492b6698",
   "metadata": {},
   "source": [
    "### Top 15 Genres with the smalliest Rating Averages"
   ]
  },
  {
   "cell_type": "code",
   "execution_count": 22,
   "id": "c7f27853",
   "metadata": {
    "scrolled": true
   },
   "outputs": [
    {
     "data": {
      "image/png": "[encoded data removed]",
      "text/plain": [
       "<Figure size 720x360 with 1 Axes>"
      ]
     },
     "metadata": {},
     "output_type": "display_data"
    }
   ],
   "source": [
    "fig = plt.figure(figsize=(10,5))\n",
    "gv_15 = genre_vs_rating.sort_values('rating_average').iloc[:15,-1]\n",
    "plt.bar(gv_15.index, gv_15)\n",
    "for i,v in zip(gv_15.index, gv_15):\n",
    "    plt.text(i,v,v,color='black', fontweight='bold', ha='center') \n",
    "plt.xticks(rotation=270)\n",
    "plt.show()"
   ]
  },
  {
   "cell_type": "markdown",
   "id": "8c18c29b",
   "metadata": {},
   "source": [
    "## Apriori Algorithm Application\n",
    "\n",
    "“X 아이템을 구매하는 고객들은 Y 아이템 역시 구매할 가능성이 높다”는 식의 결론을 내는 알고리즘"
   ]
  },
  {
   "cell_type": "code",
   "execution_count": 18,
   "id": "c636dd7b",
   "metadata": {
    "scrolled": true
   },
   "outputs": [
    {
     "data": {
      "text/html": [
       "<div>\n",
       "<style scoped>\n",
       "    .dataframe tbody tr th:only-of-type {\n",
       "        vertical-align: middle;\n",
       "    }\n",
       "\n",
       "    .dataframe tbody tr th {\n",
       "        vertical-align: top;\n",
       "    }\n",
       "\n",
       "    .dataframe thead th {\n",
       "        text-align: right;\n",
       "    }\n",
       "</style>\n",
       "<table border=\"1\" class=\"dataframe\">\n",
       "  <thead>\n",
       "    <tr style=\"text-align: right;\">\n",
       "      <th>movieid</th>\n",
       "      <th>Toy Story</th>\n",
       "      <th>Jumanji</th>\n",
       "      <th>Grumpier Old Men</th>\n",
       "      <th>Father of the Bride Part II</th>\n",
       "      <th>Heat</th>\n",
       "      <th>Sabrina</th>\n",
       "      <th>Sudden Death</th>\n",
       "      <th>GoldenEye</th>\n",
       "      <th>American President, The</th>\n",
       "      <th>Dracula: Dead and Loving It</th>\n",
       "      <th>...</th>\n",
       "      <th>Moana</th>\n",
       "      <th>Rogue One: A Star Wars Story</th>\n",
       "      <th>Hidden Figures</th>\n",
       "      <th>Get Out</th>\n",
       "      <th>Logan</th>\n",
       "      <th>Dunkirk</th>\n",
       "      <th>Blade Runner 2049</th>\n",
       "      <th>Coco</th>\n",
       "      <th>Star Wars: The Last Jedi</th>\n",
       "      <th>Deadpool 2</th>\n",
       "    </tr>\n",
       "    <tr>\n",
       "      <th>userid</th>\n",
       "      <th></th>\n",
       "      <th></th>\n",
       "      <th></th>\n",
       "      <th></th>\n",
       "      <th></th>\n",
       "      <th></th>\n",
       "      <th></th>\n",
       "      <th></th>\n",
       "      <th></th>\n",
       "      <th></th>\n",
       "      <th></th>\n",
       "      <th></th>\n",
       "      <th></th>\n",
       "      <th></th>\n",
       "      <th></th>\n",
       "      <th></th>\n",
       "      <th></th>\n",
       "      <th></th>\n",
       "      <th></th>\n",
       "      <th></th>\n",
       "      <th></th>\n",
       "    </tr>\n",
       "  </thead>\n",
       "  <tbody>\n",
       "    <tr>\n",
       "      <th>1</th>\n",
       "      <td>4.0</td>\n",
       "      <td>0.0</td>\n",
       "      <td>4.0</td>\n",
       "      <td>0.0</td>\n",
       "      <td>4.0</td>\n",
       "      <td>0.0</td>\n",
       "      <td>0.0</td>\n",
       "      <td>0.0</td>\n",
       "      <td>0.0</td>\n",
       "      <td>0.0</td>\n",
       "      <td>...</td>\n",
       "      <td>0.0</td>\n",
       "      <td>0.0</td>\n",
       "      <td>0.0</td>\n",
       "      <td>0.0</td>\n",
       "      <td>0.0</td>\n",
       "      <td>0.0</td>\n",
       "      <td>0.0</td>\n",
       "      <td>0.0</td>\n",
       "      <td>0.0</td>\n",
       "      <td>0.0</td>\n",
       "    </tr>\n",
       "    <tr>\n",
       "      <th>2</th>\n",
       "      <td>0.0</td>\n",
       "      <td>0.0</td>\n",
       "      <td>0.0</td>\n",
       "      <td>0.0</td>\n",
       "      <td>0.0</td>\n",
       "      <td>0.0</td>\n",
       "      <td>0.0</td>\n",
       "      <td>0.0</td>\n",
       "      <td>0.0</td>\n",
       "      <td>0.0</td>\n",
       "      <td>...</td>\n",
       "      <td>0.0</td>\n",
       "      <td>0.0</td>\n",
       "      <td>0.0</td>\n",
       "      <td>0.0</td>\n",
       "      <td>0.0</td>\n",
       "      <td>0.0</td>\n",
       "      <td>0.0</td>\n",
       "      <td>0.0</td>\n",
       "      <td>0.0</td>\n",
       "      <td>0.0</td>\n",
       "    </tr>\n",
       "    <tr>\n",
       "      <th>3</th>\n",
       "      <td>0.0</td>\n",
       "      <td>0.0</td>\n",
       "      <td>0.0</td>\n",
       "      <td>0.0</td>\n",
       "      <td>0.0</td>\n",
       "      <td>0.0</td>\n",
       "      <td>0.0</td>\n",
       "      <td>0.0</td>\n",
       "      <td>0.0</td>\n",
       "      <td>0.0</td>\n",
       "      <td>...</td>\n",
       "      <td>0.0</td>\n",
       "      <td>0.0</td>\n",
       "      <td>0.0</td>\n",
       "      <td>0.0</td>\n",
       "      <td>0.0</td>\n",
       "      <td>0.0</td>\n",
       "      <td>0.0</td>\n",
       "      <td>0.0</td>\n",
       "      <td>0.0</td>\n",
       "      <td>0.0</td>\n",
       "    </tr>\n",
       "    <tr>\n",
       "      <th>4</th>\n",
       "      <td>0.0</td>\n",
       "      <td>0.0</td>\n",
       "      <td>0.0</td>\n",
       "      <td>0.0</td>\n",
       "      <td>0.0</td>\n",
       "      <td>0.0</td>\n",
       "      <td>0.0</td>\n",
       "      <td>0.0</td>\n",
       "      <td>0.0</td>\n",
       "      <td>0.0</td>\n",
       "      <td>...</td>\n",
       "      <td>0.0</td>\n",
       "      <td>0.0</td>\n",
       "      <td>0.0</td>\n",
       "      <td>0.0</td>\n",
       "      <td>0.0</td>\n",
       "      <td>0.0</td>\n",
       "      <td>0.0</td>\n",
       "      <td>0.0</td>\n",
       "      <td>0.0</td>\n",
       "      <td>0.0</td>\n",
       "    </tr>\n",
       "    <tr>\n",
       "      <th>5</th>\n",
       "      <td>4.0</td>\n",
       "      <td>0.0</td>\n",
       "      <td>0.0</td>\n",
       "      <td>0.0</td>\n",
       "      <td>0.0</td>\n",
       "      <td>0.0</td>\n",
       "      <td>0.0</td>\n",
       "      <td>0.0</td>\n",
       "      <td>0.0</td>\n",
       "      <td>0.0</td>\n",
       "      <td>...</td>\n",
       "      <td>0.0</td>\n",
       "      <td>0.0</td>\n",
       "      <td>0.0</td>\n",
       "      <td>0.0</td>\n",
       "      <td>0.0</td>\n",
       "      <td>0.0</td>\n",
       "      <td>0.0</td>\n",
       "      <td>0.0</td>\n",
       "      <td>0.0</td>\n",
       "      <td>0.0</td>\n",
       "    </tr>\n",
       "    <tr>\n",
       "      <th>6</th>\n",
       "      <td>0.0</td>\n",
       "      <td>4.0</td>\n",
       "      <td>5.0</td>\n",
       "      <td>5.0</td>\n",
       "      <td>4.0</td>\n",
       "      <td>4.0</td>\n",
       "      <td>0.0</td>\n",
       "      <td>3.0</td>\n",
       "      <td>4.0</td>\n",
       "      <td>0.0</td>\n",
       "      <td>...</td>\n",
       "      <td>0.0</td>\n",
       "      <td>0.0</td>\n",
       "      <td>0.0</td>\n",
       "      <td>0.0</td>\n",
       "      <td>0.0</td>\n",
       "      <td>0.0</td>\n",
       "      <td>0.0</td>\n",
       "      <td>0.0</td>\n",
       "      <td>0.0</td>\n",
       "      <td>0.0</td>\n",
       "    </tr>\n",
       "    <tr>\n",
       "      <th>7</th>\n",
       "      <td>5.0</td>\n",
       "      <td>0.0</td>\n",
       "      <td>0.0</td>\n",
       "      <td>0.0</td>\n",
       "      <td>0.0</td>\n",
       "      <td>0.0</td>\n",
       "      <td>0.0</td>\n",
       "      <td>0.0</td>\n",
       "      <td>0.0</td>\n",
       "      <td>0.0</td>\n",
       "      <td>...</td>\n",
       "      <td>0.0</td>\n",
       "      <td>0.0</td>\n",
       "      <td>0.0</td>\n",
       "      <td>0.0</td>\n",
       "      <td>0.0</td>\n",
       "      <td>0.0</td>\n",
       "      <td>0.0</td>\n",
       "      <td>0.0</td>\n",
       "      <td>0.0</td>\n",
       "      <td>0.0</td>\n",
       "    </tr>\n",
       "    <tr>\n",
       "      <th>8</th>\n",
       "      <td>0.0</td>\n",
       "      <td>4.0</td>\n",
       "      <td>0.0</td>\n",
       "      <td>0.0</td>\n",
       "      <td>0.0</td>\n",
       "      <td>0.0</td>\n",
       "      <td>0.0</td>\n",
       "      <td>2.0</td>\n",
       "      <td>4.0</td>\n",
       "      <td>0.0</td>\n",
       "      <td>...</td>\n",
       "      <td>0.0</td>\n",
       "      <td>0.0</td>\n",
       "      <td>0.0</td>\n",
       "      <td>0.0</td>\n",
       "      <td>0.0</td>\n",
       "      <td>0.0</td>\n",
       "      <td>0.0</td>\n",
       "      <td>0.0</td>\n",
       "      <td>0.0</td>\n",
       "      <td>0.0</td>\n",
       "    </tr>\n",
       "    <tr>\n",
       "      <th>9</th>\n",
       "      <td>0.0</td>\n",
       "      <td>0.0</td>\n",
       "      <td>0.0</td>\n",
       "      <td>0.0</td>\n",
       "      <td>0.0</td>\n",
       "      <td>0.0</td>\n",
       "      <td>0.0</td>\n",
       "      <td>0.0</td>\n",
       "      <td>0.0</td>\n",
       "      <td>0.0</td>\n",
       "      <td>...</td>\n",
       "      <td>0.0</td>\n",
       "      <td>0.0</td>\n",
       "      <td>0.0</td>\n",
       "      <td>0.0</td>\n",
       "      <td>0.0</td>\n",
       "      <td>0.0</td>\n",
       "      <td>0.0</td>\n",
       "      <td>0.0</td>\n",
       "      <td>0.0</td>\n",
       "      <td>0.0</td>\n",
       "    </tr>\n",
       "    <tr>\n",
       "      <th>10</th>\n",
       "      <td>0.0</td>\n",
       "      <td>0.0</td>\n",
       "      <td>0.0</td>\n",
       "      <td>0.0</td>\n",
       "      <td>0.0</td>\n",
       "      <td>0.0</td>\n",
       "      <td>0.0</td>\n",
       "      <td>0.0</td>\n",
       "      <td>0.0</td>\n",
       "      <td>0.0</td>\n",
       "      <td>...</td>\n",
       "      <td>0.0</td>\n",
       "      <td>0.0</td>\n",
       "      <td>0.0</td>\n",
       "      <td>0.0</td>\n",
       "      <td>0.0</td>\n",
       "      <td>0.0</td>\n",
       "      <td>0.0</td>\n",
       "      <td>0.0</td>\n",
       "      <td>0.0</td>\n",
       "      <td>0.0</td>\n",
       "    </tr>\n",
       "  </tbody>\n",
       "</table>\n",
       "<p>10 rows × 2269 columns</p>\n",
       "</div>"
      ],
      "text/plain": [
       "movieid  Toy Story  Jumanji  Grumpier Old Men  Father of the Bride Part II  \\\n",
       "userid                                                                       \n",
       "1              4.0      0.0               4.0                          0.0   \n",
       "2              0.0      0.0               0.0                          0.0   \n",
       "3              0.0      0.0               0.0                          0.0   \n",
       "4              0.0      0.0               0.0                          0.0   \n",
       "5              4.0      0.0               0.0                          0.0   \n",
       "6              0.0      4.0               5.0                          5.0   \n",
       "7              5.0      0.0               0.0                          0.0   \n",
       "8              0.0      4.0               0.0                          0.0   \n",
       "9              0.0      0.0               0.0                          0.0   \n",
       "10             0.0      0.0               0.0                          0.0   \n",
       "\n",
       "movieid  Heat  Sabrina  Sudden Death  GoldenEye  American President, The  \\\n",
       "userid                                                                     \n",
       "1         4.0      0.0           0.0        0.0                      0.0   \n",
       "2         0.0      0.0           0.0        0.0                      0.0   \n",
       "3         0.0      0.0           0.0        0.0                      0.0   \n",
       "4         0.0      0.0           0.0        0.0                      0.0   \n",
       "5         0.0      0.0           0.0        0.0                      0.0   \n",
       "6         4.0      4.0           0.0        3.0                      4.0   \n",
       "7         0.0      0.0           0.0        0.0                      0.0   \n",
       "8         0.0      0.0           0.0        2.0                      4.0   \n",
       "9         0.0      0.0           0.0        0.0                      0.0   \n",
       "10        0.0      0.0           0.0        0.0                      0.0   \n",
       "\n",
       "movieid  Dracula: Dead and Loving It  ...  Moana  \\\n",
       "userid                                ...          \n",
       "1                                0.0  ...    0.0   \n",
       "2                                0.0  ...    0.0   \n",
       "3                                0.0  ...    0.0   \n",
       "4                                0.0  ...    0.0   \n",
       "5                                0.0  ...    0.0   \n",
       "6                                0.0  ...    0.0   \n",
       "7                                0.0  ...    0.0   \n",
       "8                                0.0  ...    0.0   \n",
       "9                                0.0  ...    0.0   \n",
       "10                               0.0  ...    0.0   \n",
       "\n",
       "movieid  Rogue One: A Star Wars Story  Hidden Figures  Get Out  Logan  \\\n",
       "userid                                                                  \n",
       "1                                 0.0             0.0      0.0    0.0   \n",
       "2                                 0.0             0.0      0.0    0.0   \n",
       "3                                 0.0             0.0      0.0    0.0   \n",
       "4                                 0.0             0.0      0.0    0.0   \n",
       "5                                 0.0             0.0      0.0    0.0   \n",
       "6                                 0.0             0.0      0.0    0.0   \n",
       "7                                 0.0             0.0      0.0    0.0   \n",
       "8                                 0.0             0.0      0.0    0.0   \n",
       "9                                 0.0             0.0      0.0    0.0   \n",
       "10                                0.0             0.0      0.0    0.0   \n",
       "\n",
       "movieid  Dunkirk  Blade Runner 2049  Coco  Star Wars: The Last Jedi  \\\n",
       "userid                                                                \n",
       "1            0.0                0.0   0.0                       0.0   \n",
       "2            0.0                0.0   0.0                       0.0   \n",
       "3            0.0                0.0   0.0                       0.0   \n",
       "4            0.0                0.0   0.0                       0.0   \n",
       "5            0.0                0.0   0.0                       0.0   \n",
       "6            0.0                0.0   0.0                       0.0   \n",
       "7            0.0                0.0   0.0                       0.0   \n",
       "8            0.0                0.0   0.0                       0.0   \n",
       "9            0.0                0.0   0.0                       0.0   \n",
       "10           0.0                0.0   0.0                       0.0   \n",
       "\n",
       "movieid  Deadpool 2  \n",
       "userid               \n",
       "1               0.0  \n",
       "2               0.0  \n",
       "3               0.0  \n",
       "4               0.0  \n",
       "5               0.0  \n",
       "6               0.0  \n",
       "7               0.0  \n",
       "8               0.0  \n",
       "9               0.0  \n",
       "10              0.0  \n",
       "\n",
       "[10 rows x 2269 columns]"
      ]
     },
     "execution_count": 18,
     "metadata": {},
     "output_type": "execute_result"
    }
   ],
   "source": [
    "# Created a (movieid: title) dictionary for all movieId's for replacing them with their names\n",
    "movieid_dict = df.drop_duplicates('title')[['movieid', 'title']].set_index('movieid').to_dict()['title']\n",
    "\n",
    "# Creating a pivot table that has indexes as user ratings, and columns as each movie title\n",
    "dataRecommendation = df.pivot(index='userid', columns='movieid', values='rating').fillna(0)\n",
    "\n",
    "# Replacing dataRecommendation columns with the movie titles\n",
    "dataRecommendation.columns = dataRecommendation.columns.map(movieid_dict)\n",
    "\n",
    "dataRecommendation.head(10)"
   ]
  },
  {
   "cell_type": "code",
   "execution_count": 19,
   "id": "5758dc2b",
   "metadata": {
    "scrolled": true
   },
   "outputs": [
    {
     "data": {
      "text/html": [
       "<div>\n",
       "<style scoped>\n",
       "    .dataframe tbody tr th:only-of-type {\n",
       "        vertical-align: middle;\n",
       "    }\n",
       "\n",
       "    .dataframe tbody tr th {\n",
       "        vertical-align: top;\n",
       "    }\n",
       "\n",
       "    .dataframe thead th {\n",
       "        text-align: right;\n",
       "    }\n",
       "</style>\n",
       "<table border=\"1\" class=\"dataframe\">\n",
       "  <thead>\n",
       "    <tr style=\"text-align: right;\">\n",
       "      <th>movieid</th>\n",
       "      <th>Toy Story</th>\n",
       "      <th>Jumanji</th>\n",
       "      <th>Grumpier Old Men</th>\n",
       "      <th>Father of the Bride Part II</th>\n",
       "      <th>Heat</th>\n",
       "      <th>Sabrina</th>\n",
       "      <th>Sudden Death</th>\n",
       "      <th>GoldenEye</th>\n",
       "      <th>American President, The</th>\n",
       "      <th>Dracula: Dead and Loving It</th>\n",
       "      <th>...</th>\n",
       "      <th>Moana</th>\n",
       "      <th>Rogue One: A Star Wars Story</th>\n",
       "      <th>Hidden Figures</th>\n",
       "      <th>Get Out</th>\n",
       "      <th>Logan</th>\n",
       "      <th>Dunkirk</th>\n",
       "      <th>Blade Runner 2049</th>\n",
       "      <th>Coco</th>\n",
       "      <th>Star Wars: The Last Jedi</th>\n",
       "      <th>Deadpool 2</th>\n",
       "    </tr>\n",
       "    <tr>\n",
       "      <th>userid</th>\n",
       "      <th></th>\n",
       "      <th></th>\n",
       "      <th></th>\n",
       "      <th></th>\n",
       "      <th></th>\n",
       "      <th></th>\n",
       "      <th></th>\n",
       "      <th></th>\n",
       "      <th></th>\n",
       "      <th></th>\n",
       "      <th></th>\n",
       "      <th></th>\n",
       "      <th></th>\n",
       "      <th></th>\n",
       "      <th></th>\n",
       "      <th></th>\n",
       "      <th></th>\n",
       "      <th></th>\n",
       "      <th></th>\n",
       "      <th></th>\n",
       "      <th></th>\n",
       "    </tr>\n",
       "  </thead>\n",
       "  <tbody>\n",
       "    <tr>\n",
       "      <th>1</th>\n",
       "      <td>1</td>\n",
       "      <td>0</td>\n",
       "      <td>1</td>\n",
       "      <td>0</td>\n",
       "      <td>1</td>\n",
       "      <td>0</td>\n",
       "      <td>0</td>\n",
       "      <td>0</td>\n",
       "      <td>0</td>\n",
       "      <td>0</td>\n",
       "      <td>...</td>\n",
       "      <td>0</td>\n",
       "      <td>0</td>\n",
       "      <td>0</td>\n",
       "      <td>0</td>\n",
       "      <td>0</td>\n",
       "      <td>0</td>\n",
       "      <td>0</td>\n",
       "      <td>0</td>\n",
       "      <td>0</td>\n",
       "      <td>0</td>\n",
       "    </tr>\n",
       "    <tr>\n",
       "      <th>2</th>\n",
       "      <td>0</td>\n",
       "      <td>0</td>\n",
       "      <td>0</td>\n",
       "      <td>0</td>\n",
       "      <td>0</td>\n",
       "      <td>0</td>\n",
       "      <td>0</td>\n",
       "      <td>0</td>\n",
       "      <td>0</td>\n",
       "      <td>0</td>\n",
       "      <td>...</td>\n",
       "      <td>0</td>\n",
       "      <td>0</td>\n",
       "      <td>0</td>\n",
       "      <td>0</td>\n",
       "      <td>0</td>\n",
       "      <td>0</td>\n",
       "      <td>0</td>\n",
       "      <td>0</td>\n",
       "      <td>0</td>\n",
       "      <td>0</td>\n",
       "    </tr>\n",
       "    <tr>\n",
       "      <th>3</th>\n",
       "      <td>0</td>\n",
       "      <td>0</td>\n",
       "      <td>0</td>\n",
       "      <td>0</td>\n",
       "      <td>0</td>\n",
       "      <td>0</td>\n",
       "      <td>0</td>\n",
       "      <td>0</td>\n",
       "      <td>0</td>\n",
       "      <td>0</td>\n",
       "      <td>...</td>\n",
       "      <td>0</td>\n",
       "      <td>0</td>\n",
       "      <td>0</td>\n",
       "      <td>0</td>\n",
       "      <td>0</td>\n",
       "      <td>0</td>\n",
       "      <td>0</td>\n",
       "      <td>0</td>\n",
       "      <td>0</td>\n",
       "      <td>0</td>\n",
       "    </tr>\n",
       "    <tr>\n",
       "      <th>4</th>\n",
       "      <td>0</td>\n",
       "      <td>0</td>\n",
       "      <td>0</td>\n",
       "      <td>0</td>\n",
       "      <td>0</td>\n",
       "      <td>0</td>\n",
       "      <td>0</td>\n",
       "      <td>0</td>\n",
       "      <td>0</td>\n",
       "      <td>0</td>\n",
       "      <td>...</td>\n",
       "      <td>0</td>\n",
       "      <td>0</td>\n",
       "      <td>0</td>\n",
       "      <td>0</td>\n",
       "      <td>0</td>\n",
       "      <td>0</td>\n",
       "      <td>0</td>\n",
       "      <td>0</td>\n",
       "      <td>0</td>\n",
       "      <td>0</td>\n",
       "    </tr>\n",
       "    <tr>\n",
       "      <th>5</th>\n",
       "      <td>1</td>\n",
       "      <td>0</td>\n",
       "      <td>0</td>\n",
       "      <td>0</td>\n",
       "      <td>0</td>\n",
       "      <td>0</td>\n",
       "      <td>0</td>\n",
       "      <td>0</td>\n",
       "      <td>0</td>\n",
       "      <td>0</td>\n",
       "      <td>...</td>\n",
       "      <td>0</td>\n",
       "      <td>0</td>\n",
       "      <td>0</td>\n",
       "      <td>0</td>\n",
       "      <td>0</td>\n",
       "      <td>0</td>\n",
       "      <td>0</td>\n",
       "      <td>0</td>\n",
       "      <td>0</td>\n",
       "      <td>0</td>\n",
       "    </tr>\n",
       "  </tbody>\n",
       "</table>\n",
       "<p>5 rows × 2269 columns</p>\n",
       "</div>"
      ],
      "text/plain": [
       "movieid  Toy Story  Jumanji  Grumpier Old Men  Father of the Bride Part II  \\\n",
       "userid                                                                       \n",
       "1                1        0                 1                            0   \n",
       "2                0        0                 0                            0   \n",
       "3                0        0                 0                            0   \n",
       "4                0        0                 0                            0   \n",
       "5                1        0                 0                            0   \n",
       "\n",
       "movieid  Heat  Sabrina  Sudden Death  GoldenEye  American President, The  \\\n",
       "userid                                                                     \n",
       "1           1        0             0          0                        0   \n",
       "2           0        0             0          0                        0   \n",
       "3           0        0             0          0                        0   \n",
       "4           0        0             0          0                        0   \n",
       "5           0        0             0          0                        0   \n",
       "\n",
       "movieid  Dracula: Dead and Loving It  ...  Moana  \\\n",
       "userid                                ...          \n",
       "1                                  0  ...      0   \n",
       "2                                  0  ...      0   \n",
       "3                                  0  ...      0   \n",
       "4                                  0  ...      0   \n",
       "5                                  0  ...      0   \n",
       "\n",
       "movieid  Rogue One: A Star Wars Story  Hidden Figures  Get Out  Logan  \\\n",
       "userid                                                                  \n",
       "1                                   0               0        0      0   \n",
       "2                                   0               0        0      0   \n",
       "3                                   0               0        0      0   \n",
       "4                                   0               0        0      0   \n",
       "5                                   0               0        0      0   \n",
       "\n",
       "movieid  Dunkirk  Blade Runner 2049  Coco  Star Wars: The Last Jedi  \\\n",
       "userid                                                                \n",
       "1              0                  0     0                         0   \n",
       "2              0                  0     0                         0   \n",
       "3              0                  0     0                         0   \n",
       "4              0                  0     0                         0   \n",
       "5              0                  0     0                         0   \n",
       "\n",
       "movieid  Deadpool 2  \n",
       "userid               \n",
       "1                 0  \n",
       "2                 0  \n",
       "3                 0  \n",
       "4                 0  \n",
       "5                 0  \n",
       "\n",
       "[5 rows x 2269 columns]"
      ]
     },
     "execution_count": 19,
     "metadata": {},
     "output_type": "execute_result"
    }
   ],
   "source": [
    "def encode_units(k):\n",
    "    if k <= 0:\n",
    "        return 0\n",
    "    if k >= 1:\n",
    "        return 1\n",
    "\n",
    "\n",
    "sets = dataRecommendation.applymap(encode_units)\n",
    "sets.astype(int)\n",
    "sets.head()"
   ]
  },
  {
   "cell_type": "code",
   "execution_count": 6,
   "id": "b2cf8aad",
   "metadata": {
    "collapsed": true
   },
   "outputs": [
    {
     "name": "stdout",
     "output_type": "stream",
     "text": [
      "Requirement already satisfied: apyori in /Users/jayoung/opt/anaconda3/lib/python3.9/site-packages (1.1.2)\n",
      "Requirement already satisfied: mlxtend in /Users/jayoung/opt/anaconda3/lib/python3.9/site-packages (0.20.0)\n",
      "Requirement already satisfied: setuptools in /Users/jayoung/opt/anaconda3/lib/python3.9/site-packages (from mlxtend) (61.2.0)\n",
      "Requirement already satisfied: pandas>=0.24.2 in /Users/jayoung/opt/anaconda3/lib/python3.9/site-packages (from mlxtend) (1.4.2)\n",
      "Requirement already satisfied: matplotlib>=3.0.0 in /Users/jayoung/opt/anaconda3/lib/python3.9/site-packages (from mlxtend) (3.5.1)\n",
      "Requirement already satisfied: scikit-learn>=1.0.2 in /Users/jayoung/opt/anaconda3/lib/python3.9/site-packages (from mlxtend) (1.0.2)\n",
      "Requirement already satisfied: numpy>=1.16.2 in /Users/jayoung/opt/anaconda3/lib/python3.9/site-packages (from mlxtend) (1.21.5)\n",
      "Requirement already satisfied: joblib>=0.13.2 in /Users/jayoung/opt/anaconda3/lib/python3.9/site-packages (from mlxtend) (1.1.0)\n",
      "Requirement already satisfied: scipy>=1.2.1 in /Users/jayoung/opt/anaconda3/lib/python3.9/site-packages (from mlxtend) (1.7.3)\n",
      "Requirement already satisfied: pillow>=6.2.0 in /Users/jayoung/opt/anaconda3/lib/python3.9/site-packages (from matplotlib>=3.0.0->mlxtend) (9.0.1)\n",
      "Requirement already satisfied: packaging>=20.0 in /Users/jayoung/opt/anaconda3/lib/python3.9/site-packages (from matplotlib>=3.0.0->mlxtend) (21.3)\n",
      "Requirement already satisfied: python-dateutil>=2.7 in /Users/jayoung/opt/anaconda3/lib/python3.9/site-packages (from matplotlib>=3.0.0->mlxtend) (2.8.2)\n",
      "Requirement already satisfied: kiwisolver>=1.0.1 in /Users/jayoung/opt/anaconda3/lib/python3.9/site-packages (from matplotlib>=3.0.0->mlxtend) (1.3.2)\n",
      "Requirement already satisfied: pyparsing>=2.2.1 in /Users/jayoung/opt/anaconda3/lib/python3.9/site-packages (from matplotlib>=3.0.0->mlxtend) (3.0.4)\n",
      "Requirement already satisfied: cycler>=0.10 in /Users/jayoung/opt/anaconda3/lib/python3.9/site-packages (from matplotlib>=3.0.0->mlxtend) (0.11.0)\n",
      "Requirement already satisfied: fonttools>=4.22.0 in /Users/jayoung/opt/anaconda3/lib/python3.9/site-packages (from matplotlib>=3.0.0->mlxtend) (4.25.0)\n",
      "Requirement already satisfied: pytz>=2020.1 in /Users/jayoung/opt/anaconda3/lib/python3.9/site-packages (from pandas>=0.24.2->mlxtend) (2021.3)\n",
      "Requirement already satisfied: six>=1.5 in /Users/jayoung/opt/anaconda3/lib/python3.9/site-packages (from python-dateutil>=2.7->matplotlib>=3.0.0->mlxtend) (1.16.0)\n",
      "Requirement already satisfied: threadpoolctl>=2.0.0 in /Users/jayoung/opt/anaconda3/lib/python3.9/site-packages (from scikit-learn>=1.0.2->mlxtend) (2.2.0)\n"
     ]
    }
   ],
   "source": [
    "!pip install apyori\n",
    "!pip install mlxtend"
   ]
  },
  {
   "cell_type": "code",
   "execution_count": 20,
   "id": "50033acd",
   "metadata": {},
   "outputs": [
    {
     "name": "stderr",
     "output_type": "stream",
     "text": [
      "/Users/jayoung/opt/anaconda3/lib/python3.9/site-packages/mlxtend/frequent_patterns/fpcommon.py:111: DeprecationWarning: DataFrames with non-bool types result in worse computationalperformance and their support might be discontinued in the future.Please use a DataFrame with bool type\n",
      "  warnings.warn(\n"
     ]
    },
    {
     "data": {
      "text/html": [
       "<div>\n",
       "<style scoped>\n",
       "    .dataframe tbody tr th:only-of-type {\n",
       "        vertical-align: middle;\n",
       "    }\n",
       "\n",
       "    .dataframe tbody tr th {\n",
       "        vertical-align: top;\n",
       "    }\n",
       "\n",
       "    .dataframe thead th {\n",
       "        text-align: right;\n",
       "    }\n",
       "</style>\n",
       "<table border=\"1\" class=\"dataframe\">\n",
       "  <thead>\n",
       "    <tr style=\"text-align: right;\">\n",
       "      <th></th>\n",
       "      <th>antecedents</th>\n",
       "      <th>consequents</th>\n",
       "      <th>support</th>\n",
       "      <th>lift</th>\n",
       "      <th>confidence</th>\n",
       "    </tr>\n",
       "  </thead>\n",
       "  <tbody>\n",
       "    <tr>\n",
       "      <th>14099</th>\n",
       "      <td>(Star Wars: Episode V - The Empire Strikes Bac...</td>\n",
       "      <td>(Star Wars: Episode IV - A New Hope, Matrix, T...</td>\n",
       "      <td>0.154098</td>\n",
       "      <td>4.873364</td>\n",
       "      <td>0.886792</td>\n",
       "    </tr>\n",
       "    <tr>\n",
       "      <th>14082</th>\n",
       "      <td>(Star Wars: Episode IV - A New Hope, Matrix, T...</td>\n",
       "      <td>(Star Wars: Episode V - The Empire Strikes Bac...</td>\n",
       "      <td>0.154098</td>\n",
       "      <td>4.873364</td>\n",
       "      <td>0.846847</td>\n",
       "    </tr>\n",
       "    <tr>\n",
       "      <th>14070</th>\n",
       "      <td>(Lord of the Rings: The Fellowship of the Ring...</td>\n",
       "      <td>(Star Wars: Episode V - The Empire Strikes Bac...</td>\n",
       "      <td>0.154098</td>\n",
       "      <td>4.799130</td>\n",
       "      <td>0.912621</td>\n",
       "    </tr>\n",
       "    <tr>\n",
       "      <th>14111</th>\n",
       "      <td>(Star Wars: Episode V - The Empire Strikes Bac...</td>\n",
       "      <td>(Lord of the Rings: The Fellowship of the Ring...</td>\n",
       "      <td>0.154098</td>\n",
       "      <td>4.799130</td>\n",
       "      <td>0.810345</td>\n",
       "    </tr>\n",
       "    <tr>\n",
       "      <th>14098</th>\n",
       "      <td>(Star Wars: Episode V - The Empire Strikes Bac...</td>\n",
       "      <td>(Star Wars: Episode IV - A New Hope, Lord of t...</td>\n",
       "      <td>0.154098</td>\n",
       "      <td>4.794314</td>\n",
       "      <td>0.903846</td>\n",
       "    </tr>\n",
       "  </tbody>\n",
       "</table>\n",
       "</div>"
      ],
      "text/plain": [
       "                                             antecedents  \\\n",
       "14099  (Star Wars: Episode V - The Empire Strikes Bac...   \n",
       "14082  (Star Wars: Episode IV - A New Hope, Matrix, T...   \n",
       "14070  (Lord of the Rings: The Fellowship of the Ring...   \n",
       "14111  (Star Wars: Episode V - The Empire Strikes Bac...   \n",
       "14098  (Star Wars: Episode V - The Empire Strikes Bac...   \n",
       "\n",
       "                                             consequents   support      lift  \\\n",
       "14099  (Star Wars: Episode IV - A New Hope, Matrix, T...  0.154098  4.873364   \n",
       "14082  (Star Wars: Episode V - The Empire Strikes Bac...  0.154098  4.873364   \n",
       "14070  (Star Wars: Episode V - The Empire Strikes Bac...  0.154098  4.799130   \n",
       "14111  (Lord of the Rings: The Fellowship of the Ring...  0.154098  4.799130   \n",
       "14098  (Star Wars: Episode IV - A New Hope, Lord of t...  0.154098  4.794314   \n",
       "\n",
       "       confidence  \n",
       "14099    0.886792  \n",
       "14082    0.846847  \n",
       "14070    0.912621  \n",
       "14111    0.810345  \n",
       "14098    0.903846  "
      ]
     },
     "execution_count": 20,
     "metadata": {},
     "output_type": "execute_result"
    }
   ],
   "source": [
    "# Applying Apriori algorithm to matrix\n",
    "from mlxtend.frequent_patterns import apriori\n",
    "from mlxtend.frequent_patterns import association_rules\n",
    "\n",
    "# Applying Apriori algorithm to matrix that we created before (userId-movieId) and setting min support as 0.15\n",
    "frequent_itemsets = apriori(sets, min_support=0.15, use_colnames=True)\n",
    "\n",
    "rules = association_rules(frequent_itemsets, metric=\"lift\", min_threshold=1.75).sort_values('lift', ascending=False)\n",
    "\n",
    "rules = rules[['antecedents', 'consequents', 'support', 'lift', 'confidence']]\n",
    "rules.head()"
   ]
  },
  {
   "cell_type": "markdown",
   "id": "ac3081c2",
   "metadata": {},
   "source": [
    "### Examples of Apriori Rules"
   ]
  },
  {
   "cell_type": "code",
   "execution_count": 27,
   "id": "4e2b4661",
   "metadata": {},
   "outputs": [
    {
     "name": "stdout",
     "output_type": "stream",
     "text": [
      "Antecedents: frozenset({'Sixth Sense, The'})\n",
      "Consequents: frozenset({'Fight Club'})\n",
      "Lift: 2.001 & Confidence: 0.715\n"
     ]
    }
   ],
   "source": [
    "import random\n",
    "i = random.randint(0, rules.shape[0])\n",
    "print('Antecedents:', rules.iloc[i].antecedents)\n",
    "print('Consequents:', rules.iloc[i].consequents)\n",
    "print(f'Lift: {rules.iloc[i].lift.round(3)} & Confidence: {rules.iloc[i].confidence.round(3)}')"
   ]
  },
  {
   "cell_type": "code",
   "execution_count": 28,
   "id": "6fdd218a",
   "metadata": {},
   "outputs": [
    {
     "name": "stdout",
     "output_type": "stream",
     "text": [
      "Antecedents: frozenset({'Forrest Gump', 'Apollo 13', 'Jurassic Park'})\n",
      "Consequents: frozenset({'Fugitive, The'})\n",
      "Lift: 2.389 & Confidence: 0.744\n"
     ]
    }
   ],
   "source": [
    "i = random.randint(0, rules.shape[0])\n",
    "print('Antecedents:', rules.iloc[i].antecedents)\n",
    "print('Consequents:', rules.iloc[i].consequents)\n",
    "print(f'Lift: {rules.iloc[i].lift.round(3)} & Confidence: {rules.iloc[i].confidence.round(3)}')"
   ]
  },
  {
   "cell_type": "markdown",
   "id": "3531a62b",
   "metadata": {},
   "source": [
    "### Movie Recommendation"
   ]
  },
  {
   "cell_type": "code",
   "execution_count": 21,
   "id": "77603122",
   "metadata": {},
   "outputs": [
    {
     "data": {
      "text/plain": [
       "NearestNeighbors(algorithm='brute', metric='cosine', n_jobs=-1, n_neighbors=11)"
      ]
     },
     "execution_count": 21,
     "metadata": {},
     "output_type": "execute_result"
    }
   ],
   "source": [
    "from sklearn.neighbors import NearestNeighbors\n",
    "\n",
    "knn = NearestNeighbors(n_neighbors=11, metric='cosine', algorithm='brute', n_jobs=-1)\n",
    "knn.fit(dataRecommendation.values.T)"
   ]
  },
  {
   "cell_type": "code",
   "execution_count": 22,
   "id": "16ac0ef2",
   "metadata": {},
   "outputs": [],
   "source": [
    "def movie_recommendation(movie_name, num_of_recommendations):\n",
    "    a = dataRecommendation.columns.to_frame().reset_index(drop=True).to_dict()['movieid']\n",
    "    recommendation_result = list(knn.kneighbors([dataRecommendation[movie_name].values], num_of_recommendations + 1))\n",
    "    recommendation_result = pd.DataFrame(np.vstack((recommendation_result[1], recommendation_result[0])),\n",
    "                                         index=['movieid', 'Cosine_Similarity (degree)']).T\n",
    "    recommendation_result = recommendation_result.drop([0]).reset_index(drop=True)\n",
    "    recommendation_result.movieid = recommendation_result.movieid.map(a)\n",
    "    return recommendation_result"
   ]
  },
  {
   "cell_type": "code",
   "execution_count": null,
   "id": "041fbc29",
   "metadata": {},
   "outputs": [],
   "source": [
    "movie_recommendation('Mulan', 7)"
   ]
  }
 ],
 "metadata": {
  "kernelspec": {
   "display_name": "Python 3.10.5 64-bit",
   "language": "python",
   "name": "python3"
  },
  "language_info": {
   "codemirror_mode": {
    "name": "ipython",
    "version": 3
   },
   "file_extension": ".py",
   "mimetype": "text/x-python",
   "name": "python",
   "nbconvert_exporter": "python",
   "pygments_lexer": "ipython3",
   "version": "3.10.5"
  },
  "vscode": {
   "interpreter": {
    "hash": "aee8b7b246df8f9039afb4144a1f6fd8d2ca17a180786b69acc140d282b71a49"
   }
  }
 },
 "nbformat": 4,
 "nbformat_minor": 5
}
